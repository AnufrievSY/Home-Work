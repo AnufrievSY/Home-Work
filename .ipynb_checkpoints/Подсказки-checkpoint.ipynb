{
 "cells": [
  {
   "cell_type": "markdown",
   "metadata": {
    "id": "kUvMWAv2k2L7"
   },
   "source": [
    "### Различные библиотеки"
   ]
  },
  {
   "cell_type": "code",
   "execution_count": null,
   "metadata": {
    "id": "kYJI-BeLa6U3"
   },
   "outputs": [],
   "source": [
    "import math  # Библиотека алгебраических функций\n",
    "from random import randint  # Выдает рандомные числа типа int"
   ]
  },
  {
   "cell_type": "markdown",
   "metadata": {
    "id": "FDoJPPWok687"
   },
   "source": [
    "### SumPy\n",
    "\n",
    "Символьные вычисления различных формул"
   ]
  },
  {
   "cell_type": "code",
   "execution_count": null,
   "metadata": {
    "id": "6KEMSW-ClGgJ"
   },
   "outputs": [],
   "source": [
    "from sympy import * \n",
    "init_printing()  # Печать символов обрабатываемых SumPy"
   ]
  },
  {
   "cell_type": "code",
   "execution_count": null,
   "metadata": {
    "id": "CbEIlZPmbNeL"
   },
   "outputs": [],
   "source": [
    "x = Symbol('x')  # Передаем символ\n",
    "f = 1/((x**2)+x-2) # Вводим формулу с введееым символом\n",
    "f  # Обязательно без print() иначе не сработает"
   ]
  },
  {
   "cell_type": "markdown",
   "metadata": {
    "id": "b0u_nXTglvPV"
   },
   "source": [
    "### PypLot (plt)\n",
    "Анализ и визуализация данных включает в себя возможности NumPy"
   ]
  },
  {
   "cell_type": "code",
   "execution_count": null,
   "metadata": {
    "id": "WrcVyrXUoT_C"
   },
   "outputs": [],
   "source": [
    "from matplotlib import pyplot as plt \n",
    "%matplotlib inline  # Необходим для вывода граффика сразу под кодом, но он нужен только в Jupiter? в Google Colaboreatory этим можно принебречь\n",
    "%config InlineBackend.figure_format = 'svg'  # Векторный формат вывода графиков, предположительно им также можно принебречь в GC"
   ]
  },
  {
   "cell_type": "code",
   "execution_count": null,
   "metadata": {
    "id": "YsLLWyPAl2io"
   },
   "outputs": [],
   "source": [
    "plt.subplot(1, 2, 1)  # разделение окна граффиков на 1 строку и 2 столбца и выбор 1 ячейки\n",
    "plt.subplot(1, 2, 2)  # выбор 2 ячейки. осуществлять после определения всех граффиков\n",
    "# или\n",
    "fig, ax = plt.subplots(nrows=1, ncols=2)  # fig необходим для работы непосредственно с функцией (размеры и т.д.), ax - это список ячеек.\n",
    "# для работы с ячейками пишется следующий код:\n",
    "ax[0].plot([1, 2, 3], [3, 4, 5], label ='text')  # построение линейного графика. добавление подписи \n",
    "# если применяется матрица граффиков, а не строки или столбцы, то:\n",
    "ax1, ax2, ax3, ax4 = ax.flatten()  # переносит матрицу в режим линейный или можно непосредственно переменным передать места\n",
    "\n",
    "plt.scatter([1, 2, 3], [3, 4, 5], c='black')  # построение точек на плоскости. добавление черного цвета точкам\n",
    "plt.plot([1, 2, 3], [3, 4, 5], '-o')  # построение линейного граффика с точками\n",
    "x.plot(kind='bar')  #  создает горизонтальную гистограмму у 'x' наобора данных \n",
    "#или\n",
    "plt.hist(x,  # набор данных \n",
    "         bins = 20,  # колличество значений сумма которых будет заключена в столбец\n",
    "         alpha = 0.5,  # прозрачность столбца\n",
    "         color = 'grey',  # цвет столбца \n",
    "         label = 'Class 0',   # подпись столбца\n",
    "         density = 1)    # 1/True - плотность распределения, 0/False - число наблюдений\n",
    "\n",
    "fig.set_size_inches(10, 2)  # установка размера фигуры в дюймах\n",
    "fig.subplots_adjust(wspace=1,  # ширина отступов между фигурами\n",
    "                    hspace=1)  # высота отступов между фигурами\n",
    "plt.axis([x_min, x_max, y_min, y_max])  # установка ограничений непосредственно граффика по оси x - первые два значения, y - последние два.\n",
    "plt.title('text')  # установка названия граффика\n",
    "ax1.set_title('text')  # если граффиков больше одного \n",
    "plt.xlabel('text')  # установка названия горизонтальной оси\n",
    "plt.ylabel('text')  # установка названия вертикальной оси\n",
    "plt.style.use('fivethirtyeight')  # задание стиля граффикам, есть некоторое колличество уже заданных, можно создавать свой\n",
    "plt.legend()  # отображение наименований граффиков (легенда)\n",
    "plt.grid()  # отображение сетки\n",
    "plt.show(None)  # отображение граффиков без вывода различной несущественной информации"
   ]
  },
  {
   "cell_type": "markdown",
   "metadata": {
    "id": "m7bFseqll8VX"
   },
   "source": [
    "### NumPy (np)\n",
    "создание и работа с большими массивами данных включая матрицы\n",
    "\n"
   ]
  },
  {
   "cell_type": "code",
   "execution_count": null,
   "metadata": {
    "id": "HBTRng3VojLI"
   },
   "outputs": [],
   "source": [
    "import numpy as np"
   ]
  },
  {
   "cell_type": "code",
   "execution_count": null,
   "metadata": {
    "id": "HCLeTacAl---"
   },
   "outputs": [],
   "source": [
    "x = np.array([1, 2, 3, 4, 5]) # создание массива данных NumPy \n",
    "x_ = np.linspace(50, 5000, 10) # создания массива данных с равномерно распределенными 10-ю значениями от 50 до 5000\n",
    "\n",
    "x.sort()  # сортировка полученных данных по возрастанию "
   ]
  },
  {
   "cell_type": "markdown",
   "metadata": {
    "id": "6MU9x_1Ylbz0"
   },
   "source": [
    "### Pandas (pd)\n",
    "Библиотека для работы и анализа огромных объемов данных"
   ]
  },
  {
   "cell_type": "code",
   "execution_count": null,
   "metadata": {
    "id": "_lV0HWMJds44"
   },
   "outputs": [],
   "source": [
    "import pandas as pd"
   ]
  },
  {
   "cell_type": "code",
   "execution_count": null,
   "metadata": {
    "id": "BaX366IeduQ1"
   },
   "outputs": [],
   "source": [
    "name = pd.read_csv('creditcard.csv')  # читает файл но для начала его нужно загрузить\n",
    "class_value = name['Class'].value_counts()  # считает колличество значений в определенном столбце\n",
    "class_0 = name.loc[name['Class'] == 0, ['V1']]  # получает значений по нескольким параметрам\n",
    "# чтобы отобразить первые 5 и последние 5 элементов всей базы просто пишем переменную которой мы передали базу\n",
    "name.head()  # отображение первых, по-умолчанию 5 значений\n",
    "name.tail()  # отображение последних, по-умолчанию 5 значений\n",
    "df1 = pd.DataFrame([1, 2, 3],  # получить срез с такими значениями\n",
    "                   index=list('abcdef'),  # и чтобы они входили в эти строчки\n",
    "                   columns=list('ABCD'))  # и в эти колонки"
   ]
  },
  {
   "cell_type": "markdown",
   "metadata": {
    "id": "8zoBwT7xrLml"
   },
   "source": [
    "### scikit-learn\n",
    "Для решения задач машинного обучения"
   ]
  },
  {
   "cell_type": "code",
   "execution_count": null,
   "metadata": {
    "id": "_42w0_e6rNI7"
   },
   "outputs": [],
   "source": [
    "from sklearn.datasets import load_boston  # тренировочный датасет, цены на недвижимость в Бостоне различные характеристики этой недвижимости."
   ]
  },
  {
   "cell_type": "code",
   "execution_count": null,
   "metadata": {
    "id": "M0n-m4nhrRAB"
   },
   "outputs": [],
   "source": [
    "from sklearn.model_selection import train_test_split  # Разбиение данных на тренировочную и тестовую выборку\n",
    "X_train, X_test, y_train, y_test = train_test_split(X, y, test_size=0.25)\n",
    "df = reduce_mem_usage(df)  # для уменьшения размеров дата фрейма\n",
    "df.dtypes  # чтобы посмотреть какие типы данных входят в таблицу\n",
    ".mean()  # вычисляет среднее\n",
    ".median()  # вычисляет медиану\n",
    ".mode()  # вычисляет моду\n",
    ".value_counts  # считает колличество значений\n",
    ".describe  # позволяет смотреть статистику по отдельно взятому значению\n",
    "seaborn.joinplot  # показывает граффики с распределением всех значений и зависимость между двумя показателями\n",
    "# если у признаков есть линейная зависимость, то признаки сильно друг от друга зависят (получается прямой график, прямая линия)\n",
    "seaborn.joinplot(kind = 'kde')  # вобщем то показывает точки концентрации данных, выглядит интересно, как будто бы карта\n",
    "seaborn.boxplot  # показывает медиану и крайние квантили, все что выходит за них это выбросы\n",
    "df.loc[df['name'] > value, 'name'] = df['name'].median()  # замена выявленных выбросов медианой\n",
    "# можно еще написать код матрицы корреляций Библиотеки Python для Data Science: Numpy, Matplotlib, Scikit-learn 5 урок 1:04:43\n",
    ".keys  # ключи базы данных\n",
    ".shape  # сколько значений в ключе\n",
    ".info  # информация о таблице\n",
    "X[\"Embarked\"].fillna(\"S\", inplace=True)  # Заполнение пустых значений\n",
    "X[\"Sex\"] = X[\"Sex\"].map(sex_map)  # замена двух значений признака на числа 1 или 0\n",
    "X = pd.get_dummies(X)  # разбивает признак на несколько колонок"
   ]
  }
 ],
 "metadata": {
  "colab": {
   "authorship_tag": "ABX9TyMKaRghj0ItfPweDWJWJYhk",
   "collapsed_sections": [],
   "name": "Подсказки",
   "provenance": []
  },
  "kernelspec": {
   "display_name": "Python 3 (ipykernel)",
   "language": "python",
   "name": "python3"
  },
  "language_info": {
   "codemirror_mode": {
    "name": "ipython",
    "version": 3
   },
   "file_extension": ".py",
   "mimetype": "text/x-python",
   "name": "python",
   "nbconvert_exporter": "python",
   "pygments_lexer": "ipython3",
   "version": "3.9.7"
  }
 },
 "nbformat": 4,
 "nbformat_minor": 1
}
