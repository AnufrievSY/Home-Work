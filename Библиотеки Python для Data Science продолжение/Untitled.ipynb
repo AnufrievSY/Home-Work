{
 "cells": [
  {
   "cell_type": "code",
   "execution_count": 1,
   "id": "339f03e9",
   "metadata": {},
   "outputs": [],
   "source": [
    "import warnings\n",
    "warnings.filterwarnings('ignore')\n",
    "\n",
    "from PIL import Image, ImageDraw, ImageFont"
   ]
  },
  {
   "cell_type": "code",
   "execution_count": 11,
   "id": "de9ae292",
   "metadata": {},
   "outputs": [],
   "source": [
    "for i in range(1, 101):\n",
    "    text = str(i)\n",
    "    if i % 2 == 0:\n",
    "        im_l = Image.open('аниме (переплет слева).jpg')\n",
    "        x, y = im_l.size\n",
    "        text_size = 30\n",
    "        font = ImageFont.truetype(\"arial.ttf\", size=text_size)\n",
    "        color = (0, 0, 0, 100)\n",
    "        image_draw = ImageDraw.Draw(im_l)\n",
    "        position_text = (x-text_size-50, y-text_size-10)\n",
    "        image_draw.text(position_text, text, font=font, fill=color)\n",
    "        im_l.save(f'C:\\PyProject\\ежедневник\\стр_{i}.jpg')\n",
    "    elif i % 2 == 1:\n",
    "        im_r = Image.open('аниме (переплет справа).jpg')\n",
    "        x, y = im_l.size\n",
    "        text_size = 30\n",
    "        font = ImageFont.truetype(\"arial.ttf\", size=text_size)\n",
    "        color = (0, 0, 0, 100)\n",
    "        image_draw = ImageDraw.Draw(im_r)\n",
    "        position_text = (0+text_size, y-text_size-10)\n",
    "        image_draw.text(position_text, text, font=font, fill=color)\n",
    "        im_r.save(f'C:\\PyProject\\ежедневник\\стр_{i}.jpg')    "
   ]
  },
  {
   "cell_type": "code",
   "execution_count": 7,
   "id": "afb0c54f",
   "metadata": {},
   "outputs": [
    {
     "data": {
      "text/plain": [
       "(1748, 2480)"
      ]
     },
     "execution_count": 7,
     "metadata": {},
     "output_type": "execute_result"
    }
   ],
   "source": [
    "im_l = Image.open('фильмы (переплет слева).jpg')\n",
    "im_l.size"
   ]
  }
 ],
 "metadata": {
  "kernelspec": {
   "display_name": "Python 3 (ipykernel)",
   "language": "python",
   "name": "python3"
  },
  "language_info": {
   "codemirror_mode": {
    "name": "ipython",
    "version": 3
   },
   "file_extension": ".py",
   "mimetype": "text/x-python",
   "name": "python",
   "nbconvert_exporter": "python",
   "pygments_lexer": "ipython3",
   "version": "3.9.7"
  }
 },
 "nbformat": 4,
 "nbformat_minor": 5
}
