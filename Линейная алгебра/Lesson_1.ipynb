{
 "cells": [
  {
   "cell_type": "markdown",
   "id": "559abd31",
   "metadata": {},
   "source": [
    "__1.__ Найти скалярное произведение векторов $x, y \\in \\mathbb{R}$:<br>\n",
    "а) $x=(0,-3, 6),~y=(-4, 7, 9);$<br>\n",
    "б) $x=(7, -4, 0, 1),~y=(-3, 1, 11, 2).$\n",
    "\n",
    "__2.__ Найти нормы векторов $(4, 2, 4)$ и $(12, 3, 4)$ и угол между ними.\n",
    "\n",
    "__3.__ Будет ли линейное пространство евклидовым, если за скалярное произведение принять:<br>\n",
    "а) произведение длин векторов;<br>\n",
    "б) утроенное обычное скалярное произведение векторов?<br>\n",
    "      \n",
    "__4.__ Какие из нижеперечисленных векторов образуют ортонормированный базис в линейном пространстве $\\mathbb{R}^{3}$:<br>\n",
    "а) $(1,0,0),(0,0,1);$ <br>\n",
    "б) $(1/\\sqrt{2},-1/\\sqrt{2},0),(1/\\sqrt{2},1/\\sqrt{2},0), (0,0,1);$<br>\n",
    "в) $(1/2, -1/2, 0), (0, 1/2, 1/2), (0,0,1);$<br>\n",
    "г) $(1,0,0),(0,1,0),(0,0,1)?$ \n"
   ]
  },
  {
   "cell_type": "code",
   "execution_count": 73,
   "id": "09598b29",
   "metadata": {},
   "outputs": [],
   "source": [
    "import numpy as np\n",
    "from numpy.linalg import norm\n",
    "def check(a, b, z):\n",
    "    r_1 = [np.dot(a,b), np.dot(b,a), np.dot(a,b)==np.dot(b,a)]\n",
    "    l = a[0]\n",
    "    r_2 = [np.dot(l*a, b),l*np.dot(a,b), np.dot(l*a, b)==l*np.dot(a,b)]\n",
    "    r_3 = [np.dot(a+b, z), np.dot(a, z)+np.dot(b,z), np.dot(a+b, z)==np.dot(a, z)+np.dot(b,z)]\n",
    "    r_4 = np.dot(a, a)\n",
    "    if r_4 == 0:\n",
    "        r_4 = [r_4, sum(a)==0]\n",
    "    else:\n",
    "        r_4 =[r_4, r_4>0]\n",
    "    print([r_1, r_2, r_3, r_4])\n"
   ]
  },
  {
   "cell_type": "code",
   "execution_count": 67,
   "id": "8b3bb585",
   "metadata": {},
   "outputs": [
    {
     "name": "stdout",
     "output_type": "stream",
     "text": [
      "a = [6 3 6], b = [1 0 0]\n",
      "длинна a = 9.0, длинна b = 1.0\n",
      "произведение длинн этих векторов = 9.0\n",
      "скалярное произведение этих векторов = 6\n",
      "[[6, 6, True], [36, 36, True], [65, 65, True], [81, True]]\n"
     ]
    }
   ],
   "source": [
    "a = np.array([6, 3, 6])\n",
    "b = np.array([1, 0, 0])\n",
    "z = np.array([5, 2, 4])\n",
    "a_long = np.sqrt(sum([i**2 for i in a]))\n",
    "b_long = np.sqrt(sum([i**2 for i in b]))\n",
    "a_b = a_long*b_long\n",
    "print(f'a = {a}, b = {b}')\n",
    "print(f'длинна a = {a_long}, длинна b = {b_long}')\n",
    "print(f'произведение длинн этих векторов = {a_b}')\n",
    "print(f'скалярное произведение этих векторов = {np.dot(a,b)}')\n",
    "check(a, b, z)\n"
   ]
  },
  {
   "cell_type": "code",
   "execution_count": 68,
   "id": "1caf4777",
   "metadata": {},
   "outputs": [
    {
     "data": {
      "text/plain": [
       "9.0"
      ]
     },
     "execution_count": 68,
     "metadata": {},
     "output_type": "execute_result"
    }
   ],
   "source": [
    "print(a_b)\n",
    "print(a[0]*a_b)\n",
    "print()"
   ]
  },
  {
   "cell_type": "markdown",
   "id": "84780287",
   "metadata": {},
   "source": [
    "При этом указанное правило должно подчиняться четырем аксиомам:<br>\n",
    "1) $(x,y)=(y,x);$<br>\n",
    "2) $(\\lambda x, y)=\\lambda(x, y);$<br>\n",
    "3) $(x_{1}+x_{2},y)=(x_{1},y)+(x_{2},y);$<br>\n",
    "4) $(x, x)\\geq0$, причем $(x,x)=0\\Leftrightarrow x=0.$\n"
   ]
  },
  {
   "cell_type": "code",
   "execution_count": 77,
   "id": "4bb9e10e",
   "metadata": {},
   "outputs": [
    {
     "name": "stdout",
     "output_type": "stream",
     "text": [
      "9.0\n",
      "1.0\n",
      "81\n",
      "1\n"
     ]
    }
   ],
   "source": [
    "print(norm(a, ord=2))\n",
    "print(norm(b, ord=2))\n",
    "print(a@a)\n",
    "print(b@b)"
   ]
  },
  {
   "cell_type": "code",
   "execution_count": 99,
   "id": "b89b5ecc",
   "metadata": {},
   "outputs": [
    {
     "name": "stdout",
     "output_type": "stream",
     "text": [
      "0 1 1\n"
     ]
    }
   ],
   "source": [
    "def check(a, b):\n",
    "    x = np.array(a)\n",
    "    y = np.array(b)\n",
    "    print(x@y, x@x, y@y)\n",
    "\n",
    "\n",
    "a=[1,0,0]\n",
    "b=[0,1,0]\n",
    "c=[0,0,1]\n",
    "check(a, b)\n"
   ]
  }
 ],
 "metadata": {
  "kernelspec": {
   "display_name": "Python 3 (ipykernel)",
   "language": "python",
   "name": "python3"
  },
  "language_info": {
   "codemirror_mode": {
    "name": "ipython",
    "version": 3
   },
   "file_extension": ".py",
   "mimetype": "text/x-python",
   "name": "python",
   "nbconvert_exporter": "python",
   "pygments_lexer": "ipython3",
   "version": "3.9.7"
  }
 },
 "nbformat": 4,
 "nbformat_minor": 5
}
